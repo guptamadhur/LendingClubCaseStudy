{
 "cells": [
  {
   "cell_type": "raw",
   "id": "1f805b2a",
   "metadata": {},
   "source": [
    "Mention the problem statement and the analysis approach briefly \n",
    "Explain the results of univariate, bivariate analysis etc. in business terms\n",
    "Include visualisations and summarise the most important results in the presentation"
   ]
  },
  {
   "cell_type": "markdown",
   "id": "035850eb",
   "metadata": {},
   "source": [
    "# Assignment : Lending Club Case Study"
   ]
  },
  {
   "cell_type": "markdown",
   "id": "6e47490b",
   "metadata": {},
   "source": [
    "Team : Madhur Gupta and Tejas Hankare\n",
    "\n",
    "Date : 6th March 2024\n",
    "\n",
    "Business Understanding\n",
    "We are working for Lending club a finance company which specialises in lending various types of loans to urban customers. When the company receives a loan application, the company has to make a decision for loan approval based on the applicant’s profile. Two types of risks are associated with the bank’s decision:\n",
    "•If the applicant is likely to repay the loan, then not approving the loan results in a loss of business to the company\n",
    "•If the applicant is not likely to repay the loan, i.e. he/she is likely to default, then approving the loan may lead to a financial loss for the company\n",
    "\n",
    "Objective\n",
    "The company wants to understand the driving factors (or driver variables) behind loan default (loan_status = 'Charged Off'), i.e. the variables which are strong indicators of default. The company can utilise this knowledge for its portfolio and risk assessment.\n"
   ]
  },
  {
   "cell_type": "raw",
   "id": "ba7a5e05",
   "metadata": {},
   "source": [
    "Import the necessary libraries"
   ]
  },
  {
   "cell_type": "code",
   "execution_count": null,
   "id": "3a7ee259",
   "metadata": {},
   "outputs": [],
   "source": [
    "import warnings\n",
    "import numpy as np\n",
    "import pandas as pd\n",
    "import matplotlib.pyplot as plt\n",
    "import seaborn as sns\n",
    "from scipy import stats\n",
    "from IPython.core.display import HTML\n",
    "%matplotlib inline\n",
    "warnings.filterwarnings('ignore') # if there are any warning due to version mismatch, it will be ignored"
   ]
  }
 ],
 "metadata": {
  "kernelspec": {
   "display_name": "Python 3 (ipykernel)",
   "language": "python",
   "name": "python3"
  },
  "language_info": {
   "codemirror_mode": {
    "name": "ipython",
    "version": 3
   },
   "file_extension": ".py",
   "mimetype": "text/x-python",
   "name": "python",
   "nbconvert_exporter": "python",
   "pygments_lexer": "ipython3",
   "version": "3.11.5"
  }
 },
 "nbformat": 4,
 "nbformat_minor": 5
}
